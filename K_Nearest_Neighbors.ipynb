{
  "nbformat": 4,
  "nbformat_minor": 0,
  "metadata": {
    "colab": {
      "provenance": []
    },
    "kernelspec": {
      "name": "python3",
      "display_name": "Python 3"
    },
    "language_info": {
      "name": "python"
    }
  },
  "cells": [
    {
      "cell_type": "markdown",
      "source": [
        "Ejemplo KNN"
      ],
      "metadata": {
        "id": "17E8Wx6CwFkY"
      }
    },
    {
      "cell_type": "code",
      "execution_count": 10,
      "metadata": {
        "id": "JHrrrt-Iu2yJ"
      },
      "outputs": [],
      "source": [
        "from sklearn.model_selection import train_test_split\n",
        "import pandas as pd\n",
        "import matplotlib.pyplot as plt\n",
        "from sklearn.neighbors import KNeighborsClassifier\n",
        "import  numpy as np"
      ]
    },
    {
      "cell_type": "code",
      "source": [
        "file_path = '/content/Classification-use.xlsx'\n",
        "df = pd.read_excel(file_path)\n",
        "print(df)"
      ],
      "metadata": {
        "colab": {
          "base_uri": "https://localhost:8080/"
        },
        "id": "E1oLnrRGwMYd",
        "outputId": "b036a02f-b3b8-4b28-8241-1997bbd0394e"
      },
      "execution_count": 11,
      "outputs": [
        {
          "output_type": "stream",
          "name": "stdout",
          "text": [
            "    Area   Price  Sold\n",
            "0    300   81374     1\n",
            "1    300   90000     1\n",
            "2    300   96089     1\n",
            "3    300   98089     1\n",
            "4    300  105000     0\n",
            "..   ...     ...   ...\n",
            "85  1000  351088     0\n",
            "86  1000  359074     0\n",
            "87  1000  368034     0\n",
            "88  1000  389041     0\n",
            "89  1000  401074     0\n",
            "\n",
            "[90 rows x 3 columns]\n"
          ]
        }
      ]
    },
    {
      "cell_type": "code",
      "source": [
        "# K-Nearest Neighbors (K-NN)\n",
        "X = df.iloc[:, [0, 1]].values\n",
        "y = df.iloc[:, 2].values\n",
        "\n",
        "print(X)\n",
        "print(y)"
      ],
      "metadata": {
        "colab": {
          "base_uri": "https://localhost:8080/"
        },
        "id": "y9iy0agbwOq0",
        "outputId": "8cba7ab7-c853-49e7-f1e5-1d3b67e093f7"
      },
      "execution_count": 12,
      "outputs": [
        {
          "output_type": "stream",
          "name": "stdout",
          "text": [
            "[[   300  81374]\n",
            " [   300  90000]\n",
            " [   300  96089]\n",
            " [   300  98089]\n",
            " [   300 105000]\n",
            " [   300 110000]\n",
            " [   300 118000]\n",
            " [   300 120000]\n",
            " [   300 130000]\n",
            " [   300 140000]\n",
            " [   400  81374]\n",
            " [   400  90000]\n",
            " [   400  98089]\n",
            " [   400 105000]\n",
            " [   400 118000]\n",
            " [   400 120000]\n",
            " [   400 130000]\n",
            " [   400 140000]\n",
            " [   450  83300]\n",
            " [   450 140200]\n",
            " [   450 151349]\n",
            " [   450 191399]\n",
            " [   450 201349]\n",
            " [   500 101324]\n",
            " [   500 104324]\n",
            " [   500 111324]\n",
            " [   500 131324]\n",
            " [   500 151324]\n",
            " [   500 180000]\n",
            " [   500 191324]\n",
            " [   500 211324]\n",
            " [   550 140500]\n",
            " [   550 165002]\n",
            " [   550 175103]\n",
            " [   550 191431]\n",
            " [   550 210131]\n",
            " [   550 230131]\n",
            " [   550 221299]\n",
            " [   550 241299]\n",
            " [   600 210000]\n",
            " [   600 220040]\n",
            " [   600 228999]\n",
            " [   600 241219]\n",
            " [   600 252101]\n",
            " [   600 251211]\n",
            " [   600 260081]\n",
            " [   600 365211]\n",
            " [   600 271211]\n",
            " [   600 280081]\n",
            " [   600 301211]\n",
            " [   700 210000]\n",
            " [   700 220040]\n",
            " [   700 228999]\n",
            " [   700 241219]\n",
            " [   700 252101]\n",
            " [   700 271211]\n",
            " [   700 280081]\n",
            " [   700 301211]\n",
            " [   800 210000]\n",
            " [   800 220040]\n",
            " [   800 228999]\n",
            " [   800 241219]\n",
            " [   800 252101]\n",
            " [   800 260001]\n",
            " [   800 271211]\n",
            " [   800 265211]\n",
            " [   800 280081]\n",
            " [   800 301211]\n",
            " [   900 270000]\n",
            " [   900 220040]\n",
            " [   900 228999]\n",
            " [   900 241219]\n",
            " [   900 271219]\n",
            " [   900 281219]\n",
            " [   900 291219]\n",
            " [   900 281719]\n",
            " [   900 300000]\n",
            " [   900 321211]\n",
            " [   900 340081]\n",
            " [   900 351211]\n",
            " [  1000 291073]\n",
            " [  1000 281054]\n",
            " [  1000 301026]\n",
            " [  1000 321074]\n",
            " [  1000 341074]\n",
            " [  1000 351088]\n",
            " [  1000 359074]\n",
            " [  1000 368034]\n",
            " [  1000 389041]\n",
            " [  1000 401074]]\n",
            "[1 1 1 1 0 0 0 0 0 0 1 1 1 1 1 0 0 0 1 1 1 0 0 1 1 1 1 1 0 0 0 1 1 1 1 0 0\n",
            " 0 0 1 1 1 1 0 0 0 0 0 0 0 1 1 1 1 0 0 0 0 1 1 1 1 1 1 0 0 0 0 1 1 1 1 1 1\n",
            " 1 1 0 0 0 0 1 1 1 1 1 0 0 0 0 0]\n"
          ]
        }
      ]
    },
    {
      "cell_type": "code",
      "source": [
        "# Dividir los datos en datos de entrenamiento y de prueba\n",
        "X_train, X_test, y_train, y_test = train_test_split(X,y,random_state=0,train_size=0.8)\n",
        "\n",
        "print(X_train)"
      ],
      "metadata": {
        "colab": {
          "base_uri": "https://localhost:8080/"
        },
        "id": "0ElYDql5wAmK",
        "outputId": "e7365701-0316-4f1a-a0a5-b55bc25a746a"
      },
      "execution_count": 13,
      "outputs": [
        {
          "output_type": "stream",
          "name": "stdout",
          "text": [
            "[[   900 321211]\n",
            " [   600 241219]\n",
            " [   450 201349]\n",
            " [   300 118000]\n",
            " [   800 241219]\n",
            " [   600 280081]\n",
            " [  1000 291073]\n",
            " [   700 252101]\n",
            " [   900 281219]\n",
            " [   900 351211]\n",
            " [  1000 301026]\n",
            " [   300  98089]\n",
            " [   800 252101]\n",
            " [   900 281719]\n",
            " [   500 151324]\n",
            " [   450  83300]\n",
            " [   700 210000]\n",
            " [   700 220040]\n",
            " [   900 291219]\n",
            " [   800 220040]\n",
            " [   700 271211]\n",
            " [   300 105000]\n",
            " [   400 120000]\n",
            " [   400 140000]\n",
            " [   600 220040]\n",
            " [   550 241299]\n",
            " [   300 110000]\n",
            " [  1000 281054]\n",
            " [   900 270000]\n",
            " [   300  81374]\n",
            " [   550 191431]\n",
            " [   500 180000]\n",
            " [   400  90000]\n",
            " [   550 210131]\n",
            " [   500 101324]\n",
            " [   700 228999]\n",
            " [   400  81374]\n",
            " [   550 140500]\n",
            " [   800 228999]\n",
            " [   700 301211]\n",
            " [   900 241219]\n",
            " [   300  90000]\n",
            " [   550 165002]\n",
            " [   900 300000]\n",
            " [   400 118000]\n",
            " [  1000 351088]\n",
            " [   450 140200]\n",
            " [   500 191324]\n",
            " [   600 301211]\n",
            " [  1000 368034]\n",
            " [  1000 389041]\n",
            " [   900 220040]\n",
            " [   450 151349]\n",
            " [  1000 341074]\n",
            " [   900 271219]\n",
            " [   500 111324]\n",
            " [   550 221299]\n",
            " [   600 365211]\n",
            " [   600 210000]\n",
            " [   800 265211]\n",
            " [   800 210000]\n",
            " [   400  98089]\n",
            " [   900 228999]\n",
            " [   550 230131]\n",
            " [   450 191399]\n",
            " [  1000 321074]\n",
            " [   300 140000]\n",
            " [  1000 359074]\n",
            " [   800 301211]\n",
            " [   800 271211]\n",
            " [   600 271211]\n",
            " [   600 251211]]\n"
          ]
        }
      ]
    },
    {
      "cell_type": "code",
      "source": [
        "# Escalado de características\n",
        "from sklearn.preprocessing import StandardScaler\n",
        "sc = StandardScaler()\n",
        "X_train = sc.fit_transform(X_train)\n",
        "X_test = sc.transform(X_test)\n",
        "\n",
        "print(X_train)"
      ],
      "metadata": {
        "colab": {
          "base_uri": "https://localhost:8080/"
        },
        "id": "cII51-dnxclp",
        "outputId": "5e7e91bc-7090-446a-d1c1-72c4547007ff"
      },
      "execution_count": 14,
      "outputs": [
        {
          "output_type": "stream",
          "name": "stdout",
          "text": [
            "[[ 1.0785216   1.21341605]\n",
            " [-0.2603328   0.23739154]\n",
            " [-0.92976    -0.24908332]\n",
            " [-1.59918721 -1.26606834]\n",
            " [ 0.6322368   0.23739154]\n",
            " [-0.2603328   0.71156726]\n",
            " [ 1.52480641  0.84568644]\n",
            " [ 0.185952    0.37016855]\n",
            " [ 1.0785216   0.7254526 ]\n",
            " [ 1.0785216   1.57946184]\n",
            " [ 1.52480641  0.96712824]\n",
            " [-1.59918721 -1.50901294]\n",
            " [ 0.6322368   0.37016855]\n",
            " [ 1.0785216   0.73155336]\n",
            " [-0.7066176  -0.85946468]\n",
            " [-0.92976    -1.68946131]\n",
            " [ 0.185952   -0.14352791]\n",
            " [ 0.185952   -0.02102459]\n",
            " [ 1.0785216   0.84746787]\n",
            " [ 0.6322368  -0.02102459]\n",
            " [ 0.185952    0.60333972]\n",
            " [-1.59918721 -1.42468819]\n",
            " [-1.15290241 -1.24166529]\n",
            " [-1.15290241 -0.99763476]\n",
            " [-0.2603328  -0.02102459]\n",
            " [-0.4834752   0.23836766]\n",
            " [-1.59918721 -1.36368056]\n",
            " [ 1.52480641  0.72343935]\n",
            " [ 1.0785216   0.58856368]\n",
            " [-1.59918721 -1.71296145]\n",
            " [-0.4834752  -0.37009806]\n",
            " [-0.7066176  -0.5095737 ]\n",
            " [-1.15290241 -1.60771108]\n",
            " [-0.4834752  -0.14192951]\n",
            " [-0.7066176  -1.469541  ]\n",
            " [ 0.185952    0.08828889]\n",
            " [-1.15290241 -1.71296145]\n",
            " [-0.4834752  -0.991534  ]\n",
            " [ 0.6322368   0.08828889]\n",
            " [ 0.185952    0.96938552]\n",
            " [ 1.0785216   0.23739154]\n",
            " [-1.59918721 -1.60771108]\n",
            " [-0.4834752  -0.6925722 ]\n",
            " [ 1.0785216   0.95460947]\n",
            " [-1.15290241 -1.26606834]\n",
            " [ 1.52480641  1.57796105]\n",
            " [-0.92976    -0.99519446]\n",
            " [-0.7066176  -0.37140362]\n",
            " [-0.2603328   0.96938552]\n",
            " [ 1.52480641  1.78472812]\n",
            " [ 1.52480641  2.04104559]\n",
            " [ 1.0785216  -0.02102459]\n",
            " [-0.92976    -0.85915964]\n",
            " [ 1.52480641  1.45577497]\n",
            " [ 1.0785216   0.60343734]\n",
            " [-0.7066176  -1.34752574]\n",
            " [-0.4834752  -0.00566286]\n",
            " [-0.2603328   1.75028321]\n",
            " [-0.2603328  -0.14352791]\n",
            " [ 0.6322368   0.53013057]\n",
            " [ 0.6322368  -0.14352791]\n",
            " [-1.15290241 -1.50901294]\n",
            " [ 1.0785216   0.08828889]\n",
            " [-0.4834752   0.10210102]\n",
            " [-0.92976    -0.3704885 ]\n",
            " [ 1.52480641  1.21174444]\n",
            " [-1.59918721 -0.99763476]\n",
            " [ 1.52480641  1.67540244]\n",
            " [ 0.6322368   0.96938552]\n",
            " [ 0.6322368   0.60333972]\n",
            " [-0.2603328   0.60333972]\n",
            " [-0.2603328   0.3593092 ]]\n"
          ]
        }
      ]
    },
    {
      "cell_type": "code",
      "source": [
        "# Adaptación de K-NN al conjunto de entrenamiento\n",
        "classifier = KNeighborsClassifier(n_neighbors = 17,weights='distance')\n",
        "classifier.fit(X_train, y_train)"
      ],
      "metadata": {
        "colab": {
          "base_uri": "https://localhost:8080/",
          "height": 75
        },
        "id": "FrgygjOexlfU",
        "outputId": "974380e6-75d1-4cdd-a82e-f29b8429036b"
      },
      "execution_count": 15,
      "outputs": [
        {
          "output_type": "execute_result",
          "data": {
            "text/plain": [
              "KNeighborsClassifier(n_neighbors=17, weights='distance')"
            ],
            "text/html": [
              "<style>#sk-container-id-1 {color: black;background-color: white;}#sk-container-id-1 pre{padding: 0;}#sk-container-id-1 div.sk-toggleable {background-color: white;}#sk-container-id-1 label.sk-toggleable__label {cursor: pointer;display: block;width: 100%;margin-bottom: 0;padding: 0.3em;box-sizing: border-box;text-align: center;}#sk-container-id-1 label.sk-toggleable__label-arrow:before {content: \"▸\";float: left;margin-right: 0.25em;color: #696969;}#sk-container-id-1 label.sk-toggleable__label-arrow:hover:before {color: black;}#sk-container-id-1 div.sk-estimator:hover label.sk-toggleable__label-arrow:before {color: black;}#sk-container-id-1 div.sk-toggleable__content {max-height: 0;max-width: 0;overflow: hidden;text-align: left;background-color: #f0f8ff;}#sk-container-id-1 div.sk-toggleable__content pre {margin: 0.2em;color: black;border-radius: 0.25em;background-color: #f0f8ff;}#sk-container-id-1 input.sk-toggleable__control:checked~div.sk-toggleable__content {max-height: 200px;max-width: 100%;overflow: auto;}#sk-container-id-1 input.sk-toggleable__control:checked~label.sk-toggleable__label-arrow:before {content: \"▾\";}#sk-container-id-1 div.sk-estimator input.sk-toggleable__control:checked~label.sk-toggleable__label {background-color: #d4ebff;}#sk-container-id-1 div.sk-label input.sk-toggleable__control:checked~label.sk-toggleable__label {background-color: #d4ebff;}#sk-container-id-1 input.sk-hidden--visually {border: 0;clip: rect(1px 1px 1px 1px);clip: rect(1px, 1px, 1px, 1px);height: 1px;margin: -1px;overflow: hidden;padding: 0;position: absolute;width: 1px;}#sk-container-id-1 div.sk-estimator {font-family: monospace;background-color: #f0f8ff;border: 1px dotted black;border-radius: 0.25em;box-sizing: border-box;margin-bottom: 0.5em;}#sk-container-id-1 div.sk-estimator:hover {background-color: #d4ebff;}#sk-container-id-1 div.sk-parallel-item::after {content: \"\";width: 100%;border-bottom: 1px solid gray;flex-grow: 1;}#sk-container-id-1 div.sk-label:hover label.sk-toggleable__label {background-color: #d4ebff;}#sk-container-id-1 div.sk-serial::before {content: \"\";position: absolute;border-left: 1px solid gray;box-sizing: border-box;top: 0;bottom: 0;left: 50%;z-index: 0;}#sk-container-id-1 div.sk-serial {display: flex;flex-direction: column;align-items: center;background-color: white;padding-right: 0.2em;padding-left: 0.2em;position: relative;}#sk-container-id-1 div.sk-item {position: relative;z-index: 1;}#sk-container-id-1 div.sk-parallel {display: flex;align-items: stretch;justify-content: center;background-color: white;position: relative;}#sk-container-id-1 div.sk-item::before, #sk-container-id-1 div.sk-parallel-item::before {content: \"\";position: absolute;border-left: 1px solid gray;box-sizing: border-box;top: 0;bottom: 0;left: 50%;z-index: -1;}#sk-container-id-1 div.sk-parallel-item {display: flex;flex-direction: column;z-index: 1;position: relative;background-color: white;}#sk-container-id-1 div.sk-parallel-item:first-child::after {align-self: flex-end;width: 50%;}#sk-container-id-1 div.sk-parallel-item:last-child::after {align-self: flex-start;width: 50%;}#sk-container-id-1 div.sk-parallel-item:only-child::after {width: 0;}#sk-container-id-1 div.sk-dashed-wrapped {border: 1px dashed gray;margin: 0 0.4em 0.5em 0.4em;box-sizing: border-box;padding-bottom: 0.4em;background-color: white;}#sk-container-id-1 div.sk-label label {font-family: monospace;font-weight: bold;display: inline-block;line-height: 1.2em;}#sk-container-id-1 div.sk-label-container {text-align: center;}#sk-container-id-1 div.sk-container {/* jupyter's `normalize.less` sets `[hidden] { display: none; }` but bootstrap.min.css set `[hidden] { display: none !important; }` so we also need the `!important` here to be able to override the default hidden behavior on the sphinx rendered scikit-learn.org. See: https://github.com/scikit-learn/scikit-learn/issues/21755 */display: inline-block !important;position: relative;}#sk-container-id-1 div.sk-text-repr-fallback {display: none;}</style><div id=\"sk-container-id-1\" class=\"sk-top-container\"><div class=\"sk-text-repr-fallback\"><pre>KNeighborsClassifier(n_neighbors=17, weights=&#x27;distance&#x27;)</pre><b>In a Jupyter environment, please rerun this cell to show the HTML representation or trust the notebook. <br />On GitHub, the HTML representation is unable to render, please try loading this page with nbviewer.org.</b></div><div class=\"sk-container\" hidden><div class=\"sk-item\"><div class=\"sk-estimator sk-toggleable\"><input class=\"sk-toggleable__control sk-hidden--visually\" id=\"sk-estimator-id-1\" type=\"checkbox\" checked><label for=\"sk-estimator-id-1\" class=\"sk-toggleable__label sk-toggleable__label-arrow\">KNeighborsClassifier</label><div class=\"sk-toggleable__content\"><pre>KNeighborsClassifier(n_neighbors=17, weights=&#x27;distance&#x27;)</pre></div></div></div></div></div>"
            ]
          },
          "metadata": {},
          "execution_count": 15
        }
      ]
    },
    {
      "cell_type": "code",
      "source": [
        "# Predicción de los resultados del conjunto de pruebas\n",
        "y_pred = classifier.predict(X_test)\n",
        "print('y_pred',y_pred)\n",
        "print('y_test',y_test)"
      ],
      "metadata": {
        "colab": {
          "base_uri": "https://localhost:8080/"
        },
        "id": "-wjbelbLxtpf",
        "outputId": "61c57a63-1f82-45d2-c50c-bc85e66be785"
      },
      "execution_count": 16,
      "outputs": [
        {
          "output_type": "stream",
          "name": "stdout",
          "text": [
            "y_pred [1 1 1 1 0 0 0 0 0 0 0 1 1 1 0 1 1 0]\n",
            "y_test [1 1 1 1 0 0 0 0 0 0 0 1 1 1 0 0 1 0]\n"
          ]
        }
      ]
    },
    {
      "cell_type": "code",
      "source": [
        "# Evaluación del modelo\n",
        "# Matríz de Confusión\n",
        "from sklearn.metrics import confusion_matrix\n",
        "cm = confusion_matrix(y_test, y_pred)\n",
        "print(cm)"
      ],
      "metadata": {
        "colab": {
          "base_uri": "https://localhost:8080/"
        },
        "id": "Fra7B-Srx4aR",
        "outputId": "b257cbd0-28d0-40ef-a20c-85ad3b0ead1c"
      },
      "execution_count": 17,
      "outputs": [
        {
          "output_type": "stream",
          "name": "stdout",
          "text": [
            "[[9 1]\n",
            " [0 8]]\n"
          ]
        }
      ]
    },
    {
      "cell_type": "code",
      "source": [
        "# Visualización de los resultados del conjunto de pruebas\n",
        "from matplotlib.colors import ListedColormap\n",
        "X_set, y_set = X_test, y_test\n",
        "X1, X2 = np.meshgrid(np.arange(start = X_set[:, 0].min() - 1, stop = X_set[:, 0].max() + 1, step = 0.01),\n",
        "                     np.arange(start = X_set[:, 1].min() - 1, stop = X_set[:, 1].max() + 1, step = 0.01))\n",
        "plt.contourf(X1, X2, classifier.predict(np.array([X1.ravel(), X2.ravel()]).T).reshape(X1.shape),\n",
        "             alpha = 0.75, cmap = ListedColormap(('#DB766D', '#8ADB90')))\n",
        "plt.xlim(X1.min(), X1.max())\n",
        "plt.ylim(X2.min(), X2.max())\n",
        "for i, j in enumerate(np.unique(y_set)):\n",
        "    plt.scatter(X_set[y_set == j, 0], X_set[y_set == j, 1],\n",
        "                c = ListedColormap(('red', 'green'))(i), label = j)\n",
        "plt.title('K-NN (Test set)')\n",
        "plt.xlabel('Area')\n",
        "plt.ylabel('Price')\n",
        "plt.legend()\n",
        "plt.show()"
      ],
      "metadata": {
        "colab": {
          "base_uri": "https://localhost:8080/",
          "height": 527
        },
        "id": "BAEHRjyuyMLj",
        "outputId": "4afd3acd-2e0a-402e-f9ab-a6c1167d1e21"
      },
      "execution_count": 19,
      "outputs": [
        {
          "output_type": "stream",
          "name": "stderr",
          "text": [
            "<ipython-input-19-d1ded0927eb1>:11: UserWarning: *c* argument looks like a single numeric RGB or RGBA sequence, which should be avoided as value-mapping will have precedence in case its length matches with *x* & *y*.  Please use the *color* keyword-argument or provide a 2D array with a single row if you intend to specify the same RGB or RGBA value for all points.\n",
            "  plt.scatter(X_set[y_set == j, 0], X_set[y_set == j, 1],\n"
          ]
        },
        {
          "output_type": "display_data",
          "data": {
            "text/plain": [
              "<Figure size 640x480 with 1 Axes>"
            ],
            "image/png": "[encoded data removed]"
          },
          "metadata": {}
        }
      ]
    }
  ]
}